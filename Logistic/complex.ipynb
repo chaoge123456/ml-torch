{
 "cells": [
  {
   "cell_type": "code",
   "execution_count": 1,
   "metadata": {},
   "outputs": [],
   "source": [
    "import torch\n",
    "import numpy as np\n",
    "import h5py\n",
    "import matplotlib.pyplot as plt\n",
    "import torch.utils.data as Data"
   ]
  },
  {
   "cell_type": "markdown",
   "metadata": {},
   "source": [
    "### 导入数据集"
   ]
  },
  {
   "cell_type": "code",
   "execution_count": 2,
   "metadata": {},
   "outputs": [],
   "source": [
    "train_dataset = h5py.File('../Datasets/cat/train_catvnoncat.h5', \"r\")\n",
    "train_x_orig = np.array(train_dataset[\"train_set_x\"][:])\n",
    "train_y_orig = np.array(train_dataset[\"train_set_y\"][:]) \n",
    "\n",
    "test_dataset = h5py.File('../Datasets/cat/test_catvnoncat.h5', \"r\")\n",
    "test_x_orig = np.array(test_dataset[\"test_set_x\"][:])\n",
    "test_y_orig = np.array(test_dataset[\"test_set_y\"][:])"
   ]
  },
  {
   "cell_type": "code",
   "execution_count": 3,
   "metadata": {},
   "outputs": [
    {
     "data": {
      "text/plain": [
       "<matplotlib.image.AxesImage at 0x7f04196674d0>"
      ]
     },
     "execution_count": 3,
     "metadata": {},
     "output_type": "execute_result"
    },
    {
     "data": {
      "image/png": "[encoded data removed]",
      "text/plain": [
       "<Figure size 432x288 with 1 Axes>"
      ]
     },
     "metadata": {
      "needs_background": "light"
     },
     "output_type": "display_data"
    }
   ],
   "source": [
    "index = 10\n",
    "plt.imshow(train_x_orig[index])"
   ]
  },
  {
   "cell_type": "markdown",
   "metadata": {},
   "source": [
    "### 数据转换"
   ]
  },
  {
   "cell_type": "code",
   "execution_count": 4,
   "metadata": {},
   "outputs": [],
   "source": [
    "train_x_orig = train_x_orig.astype(np.float32).reshape(train_x_orig.shape[0], -1)\n",
    "test_x_orig = test_x_orig.astype(np.float32).reshape(test_x_orig.shape[0], -1)"
   ]
  },
  {
   "cell_type": "markdown",
   "metadata": {},
   "source": [
    "### 数据归一化"
   ]
  },
  {
   "cell_type": "code",
   "execution_count": 5,
   "metadata": {},
   "outputs": [],
   "source": [
    "x_mean = np.mean(train_x_orig, axis=0)\n",
    "x_std = np.std(train_x_orig, axis=0)\n",
    "\n",
    "train_x_orig = (train_x_orig - x_mean) / x_std\n",
    "test_x_orig = (test_x_orig - x_mean) / x_std"
   ]
  },
  {
   "cell_type": "markdown",
   "metadata": {},
   "source": [
    "### 将数据从numpy类型转为torch类型"
   ]
  },
  {
   "cell_type": "code",
   "execution_count": 6,
   "metadata": {},
   "outputs": [],
   "source": [
    "train_x = torch.from_numpy(train_x_orig)\n",
    "train_y = torch.from_numpy(train_y_orig.astype(np.float32)).reshape(train_y_orig.shape[0], 1)\n",
    "\n",
    "test_x = torch.from_numpy(test_x_orig)\n",
    "test_y = torch.from_numpy(test_y_orig.astype(np.float32)).reshape(test_y_orig.shape[0], 1)"
   ]
  },
  {
   "cell_type": "markdown",
   "metadata": {},
   "source": [
    "### 构造训练集"
   ]
  },
  {
   "cell_type": "code",
   "execution_count": 7,
   "metadata": {},
   "outputs": [],
   "source": [
    "batch_size = 50\n",
    "train_data = Data.TensorDataset(train_x, train_y)\n",
    "train_iter = Data.DataLoader(train_data, batch_size=batch_size, shuffle=True)"
   ]
  },
  {
   "cell_type": "markdown",
   "metadata": {},
   "source": [
    "### 定义相关函数"
   ]
  },
  {
   "cell_type": "code",
   "execution_count": 8,
   "metadata": {},
   "outputs": [],
   "source": [
    "def initalize(num_input, num_output):\n",
    "    \n",
    "    w = torch.normal(0, 0.01, (num_input, num_output), dtype=torch.float)\n",
    "    b = torch.zeros(num_output, dtype=torch.float)\n",
    "    \n",
    "    return w, b\n",
    "\n",
    "def sigmoid(z):\n",
    "    \n",
    "    s = 1.0 / (1 + torch.exp(z))\n",
    "    return s\n",
    "\n",
    "def forward(w, b , x, y):\n",
    "    \n",
    "    m = x.shape[0]\n",
    "    z = torch.mm(x, w) + b\n",
    "    s = sigmoid(z)\n",
    "    cost = -1/m * torch.sum(y*torch.log(s) + (1-y)*torch.log(1-s))\n",
    "    \n",
    "    dw = 1/m * torch.mm(x.T, (s - y))\n",
    "    db = 1/m * torch.sum(s - y)\n",
    "    grads = {\"dw\": dw, \"db\": db}\n",
    "    \n",
    "    return grads, cost\n",
    "\n",
    "def train(num_input, num_output, epochs, learning_rate, train_iter):\n",
    "    \n",
    "    w, b = initalize(num_input, num_output)\n",
    "    for epoch in range(epochs):\n",
    "        for data in train_iter:\n",
    "            x, y = data\n",
    "            grads, cost = forward(w, b, x, y)\n",
    "            dw = grads[\"dw\"]\n",
    "            db = grads[\"db\"]\n",
    "            w += learning_rate*dw\n",
    "            b += learning_rate*db\n",
    "        print(cost.item())\n",
    "    return w, b\n",
    "\n",
    "def predict(w, b, x, y):\n",
    "    \n",
    "    m = x.shape[0]\n",
    "    pre = torch.zeros((m, 1))\n",
    "    s = sigmoid(torch.mm(x, w) + b)\n",
    "    for i in range(m):\n",
    "        pre[i][0] = 1 if s[i][0] > 0.5 else 0\n",
    "    return torch.sum(pre  == y) * 1.0 / m"
   ]
  },
  {
   "cell_type": "markdown",
   "metadata": {},
   "source": [
    "### 训练模型"
   ]
  },
  {
   "cell_type": "code",
   "execution_count": 9,
   "metadata": {
    "collapsed": true,
    "jupyter": {
     "outputs_hidden": true
    }
   },
   "outputs": [
    {
     "name": "stdout",
     "output_type": "stream",
     "text": [
      "1.6479583978652954\n",
      "0.513749361038208\n",
      "0.6046684384346008\n",
      "0.8428994417190552\n",
      "1.0481973886489868\n",
      "0.5191287994384766\n",
      "0.43509775400161743\n",
      "0.13692457973957062\n",
      "0.6052640080451965\n",
      "0.43718481063842773\n",
      "1.1141382455825806\n",
      "0.347282737493515\n",
      "0.4471338093280792\n",
      "0.2556876540184021\n",
      "0.41217175126075745\n",
      "0.23385079205036163\n",
      "0.20665502548217773\n",
      "0.209504172205925\n",
      "0.1555739939212799\n",
      "0.23268580436706543\n",
      "0.33386483788490295\n",
      "0.1914825439453125\n",
      "0.23049156367778778\n",
      "0.38551971316337585\n",
      "0.22303815186023712\n",
      "0.1364770382642746\n",
      "0.2865939140319824\n",
      "0.1174301877617836\n",
      "0.07754272222518921\n",
      "0.10935650020837784\n",
      "0.13243114948272705\n",
      "0.16683201491832733\n",
      "0.4288772642612457\n",
      "0.2839057743549347\n",
      "0.25807711482048035\n",
      "0.19441743195056915\n",
      "0.1226128339767456\n",
      "0.082333505153656\n",
      "0.12120865285396576\n",
      "0.22822465002536774\n",
      "0.09281150251626968\n",
      "0.1503724306821823\n",
      "0.06487654149532318\n",
      "0.22684679925441742\n",
      "0.07329241186380386\n",
      "0.2574186325073242\n",
      "0.14066359400749207\n",
      "0.08521632850170135\n",
      "0.0996536910533905\n",
      "0.07975701242685318\n",
      "0.08086041361093521\n",
      "0.10829248279333115\n",
      "0.08734391629695892\n",
      "0.07841822504997253\n",
      "0.08778945356607437\n",
      "0.19552376866340637\n",
      "0.07927343994379044\n",
      "0.10555020719766617\n",
      "0.04950517416000366\n",
      "0.05583159253001213\n",
      "0.10488356649875641\n",
      "0.10933399945497513\n",
      "0.1576748788356781\n",
      "0.08531665056943893\n",
      "0.1007177084684372\n",
      "0.08102089911699295\n",
      "0.12574069201946259\n",
      "0.07767447084188461\n",
      "0.09451252967119217\n",
      "0.10172726958990097\n",
      "0.20640122890472412\n",
      "0.07876211404800415\n",
      "0.07342544943094254\n",
      "0.16692416369915009\n",
      "0.07440055906772614\n",
      "0.06064159423112869\n",
      "0.047434981912374496\n",
      "0.037022560834884644\n",
      "0.059166040271520615\n",
      "0.05756979435682297\n",
      "0.06523877382278442\n",
      "0.04344693198800087\n",
      "0.03934140503406525\n",
      "0.04310806095600128\n",
      "0.06849006563425064\n",
      "0.06887336075305939\n",
      "0.05826963484287262\n",
      "0.09666699916124344\n",
      "0.05555202439427376\n",
      "0.0653219223022461\n",
      "0.04948236793279648\n",
      "0.04451970010995865\n",
      "0.03933403268456459\n",
      "0.05430584028363228\n",
      "0.05033697560429573\n",
      "0.03331705182790756\n",
      "0.03481404855847359\n",
      "0.06015064939856529\n",
      "0.06869594007730484\n",
      "0.05850860849022865\n"
     ]
    }
   ],
   "source": [
    "num_input = train_x.shape[1]\n",
    "num_output = 1\n",
    "epochs = 100\n",
    "learning_rate = 0.005\n",
    "w, b = train(num_input, num_output, epochs, learning_rate, train_iter)"
   ]
  },
  {
   "cell_type": "markdown",
   "metadata": {},
   "source": [
    "### 测试模型"
   ]
  },
  {
   "cell_type": "code",
   "execution_count": 10,
   "metadata": {},
   "outputs": [
    {
     "name": "stdout",
     "output_type": "stream",
     "text": [
      "在训练集上的准确率为:  1.0\n"
     ]
    }
   ],
   "source": [
    "print(\"在训练集上的准确率为: \", predict(w, b, train_x, train_y).item())"
   ]
  },
  {
   "cell_type": "code",
   "execution_count": 11,
   "metadata": {},
   "outputs": [
    {
     "name": "stdout",
     "output_type": "stream",
     "text": [
      "在测试集上的准确率为:  0.6600000262260437\n"
     ]
    }
   ],
   "source": [
    "print(\"在测试集上的准确率为: \", predict(w, b, test_x, test_y).item())"
   ]
  }
 ],
 "metadata": {
  "kernelspec": {
   "display_name": "Python 3",
   "language": "python",
   "name": "python3"
  },
  "language_info": {
   "codemirror_mode": {
    "name": "ipython",
    "version": 3
   },
   "file_extension": ".py",
   "mimetype": "text/x-python",
   "name": "python",
   "nbconvert_exporter": "python",
   "pygments_lexer": "ipython3",
   "version": "3.7.6"
  }
 },
 "nbformat": 4,
 "nbformat_minor": 4
}
