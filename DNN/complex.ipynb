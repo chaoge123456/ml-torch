{
 "cells": [
  {
   "cell_type": "code",
   "execution_count": 1,
   "metadata": {},
   "outputs": [],
   "source": [
    "import torch\n",
    "import torchvision\n",
    "import numpy as np\n",
    "import torchvision.transforms as transforms\n",
    "import matplotlib.pyplot as plt"
   ]
  },
  {
   "cell_type": "markdown",
   "metadata": {},
   "source": [
    "### 导入数据集"
   ]
  },
  {
   "cell_type": "code",
   "execution_count": 2,
   "metadata": {},
   "outputs": [],
   "source": [
    "batch_size = 128\n",
    "text_labels = ['t-shirt', 'trouser', 'pullover', 'dress', 'coat','sandal', 'shirt', 'sneaker', 'bag', 'ankle boot']\n",
    "mnist_train =torchvision.datasets.FashionMNIST(root='../Datasets/FashionMNIST', train=True, download=False, transform=transforms.ToTensor())\n",
    "mnist_test = torchvision.datasets.FashionMNIST(root='../Datasets/FashionMNIST', train=False, download=False, transform=transforms.ToTensor())\n",
    "train_iter = torch.utils.data.DataLoader(mnist_train, batch_size=batch_size, shuffle=True)\n",
    "test_iter = torch.utils.data.DataLoader(mnist_test, batch_size=batch_size, shuffle=False)"
   ]
  },
  {
   "cell_type": "code",
   "execution_count": 3,
   "metadata": {},
   "outputs": [
    {
     "data": {
      "text/plain": [
       "Text(0.5, 1.0, 'Label: bag')"
      ]
     },
     "execution_count": 3,
     "metadata": {},
     "output_type": "execute_result"
    },
    {
     "data": {
      "image/png": "[encoded data removed]",
      "text/plain": [
       "<Figure size 432x288 with 1 Axes>"
      ]
     },
     "metadata": {
      "needs_background": "light"
     },
     "output_type": "display_data"
    }
   ],
   "source": [
    "index = 100\n",
    "plt.imshow(mnist_train[index][0].view(28, 28).numpy())\n",
    "plt.title(\"Label: \" + text_labels[mnist_train[index][1]])"
   ]
  },
  {
   "cell_type": "markdown",
   "metadata": {},
   "source": [
    "### 相关函数"
   ]
  },
  {
   "cell_type": "code",
   "execution_count": 4,
   "metadata": {},
   "outputs": [],
   "source": [
    "class Layer:\n",
    "    def __init__(self):\n",
    "        pass\n",
    "    def forward(self, input):\n",
    "        return input\n",
    "    def backward(self, input, grad):\n",
    "        pass\n",
    "\n",
    "# ReLU激活函数\n",
    "class ReLU(Layer):\n",
    "    def __init__(self):\n",
    "        pass\n",
    "    def forward(self, input):\n",
    "        return (torch.abs(input) + input) / 2.0\n",
    "    def backward(self, input, grad):\n",
    "        input[input<=0] = 0\n",
    "        input[input>0] = 1\n",
    "        return grad*input\n",
    "\n",
    "# softmax激活函数\n",
    "class Softmax(Layer):\n",
    "    def __init__(self):\n",
    "        pass\n",
    "    \n",
    "    def forward(self,input):\n",
    "        exp = torch.exp(input)\n",
    "        exp_sum = torch.sum(exp, axis=1, keepdims=True)\n",
    "        return exp / exp_sum\n",
    "    \n",
    "    def backward(self,input,grad):\n",
    "        pass\n",
    "\n",
    "class Dense(Layer):\n",
    "    \n",
    "    def __init__(self, num_input, num_output, learning_rate=0.1):\n",
    "        self.learning_rate = learning_rate\n",
    "        self.w = torch.normal(0, 0.01, (num_input, num_output), dtype=torch.float)\n",
    "        self.b = torch.zeros(num_output, dtype=torch.float)\n",
    "    \n",
    "    def forward(self, input):\n",
    "        return torch.mm(input, self.w) + self.b\n",
    "    \n",
    "    def backward(self, input, grad):\n",
    "        grad_input = torch.mm(grad, self.w.T)\n",
    "        dw = torch.mm(input.T, grad) / input.shape[0]\n",
    "        db = torch.sum(grad, axis=0) / input.shape[0]\n",
    "        self.w -= self.learning_rate*dw\n",
    "        self.b -= self.learning_rate*db\n",
    "        return grad_input\n",
    "        "
   ]
  },
  {
   "cell_type": "code",
   "execution_count": 5,
   "metadata": {},
   "outputs": [],
   "source": [
    "def cross_entropy(logits, y):\n",
    "    # 交叉熵损失\n",
    "    loss = -1.0/y.shape[0] * torch.sum(y*torch.log(logits))\n",
    "    loss_grad = logits-y\n",
    "    return loss, loss_grad\n",
    "\n",
    "def forward(network, x):\n",
    "    # 前向传播\n",
    "    activations = []\n",
    "    input = x\n",
    "    for layer in network:\n",
    "        activations.append(layer.forward(input))\n",
    "        input = activations[-1]\n",
    "                \n",
    "    return activations\n",
    "\n",
    "def predict(network, test_iter):\n",
    "    # 测试模型\n",
    "    n = 0\n",
    "    m = 0\n",
    "    for data in test_iter:\n",
    "        x, y = data\n",
    "        x = x.reshape(x.shape[0], -1)\n",
    "        logits = forward(network,x)[-1]\n",
    "        n += torch.sum(torch.argmax(logits, axis=1) == y)\n",
    "        m += x.shape[0]\n",
    "    return n * 1.0 / m\n",
    "\n",
    "def train(network,x,y): \n",
    "    # 训练模型\n",
    "    layer_activations = forward(network,x)\n",
    "    layer_inputs = [x]+layer_activations  \n",
    "    logits = layer_activations[-1]\n",
    "    loss, loss_grad = cross_entropy(logits, y)\n",
    "    \n",
    "    for layer_i in range(len(network)-1)[::-1]:\n",
    "        layer = network[layer_i]\n",
    "        loss_grad = layer.backward(layer_inputs[layer_i],loss_grad) \n",
    "    return loss.item()"
   ]
  },
  {
   "cell_type": "code",
   "execution_count": 6,
   "metadata": {},
   "outputs": [],
   "source": [
    "network = []\n",
    "network.append(Dense(784,20))\n",
    "network.append(ReLU())\n",
    "network.append(Dense(20,10))\n",
    "network.append(Softmax())"
   ]
  },
  {
   "cell_type": "code",
   "execution_count": 7,
   "metadata": {},
   "outputs": [
    {
     "name": "stdout",
     "output_type": "stream",
     "text": [
      "0.7153858542442322\n",
      "0.8391762971878052\n",
      "0.9458053112030029\n",
      "0.8664762377738953\n",
      "0.7212759256362915\n",
      "0.8634611964225769\n",
      "0.6815086603164673\n",
      "0.8553763628005981\n",
      "0.4354371726512909\n",
      "0.8366421461105347\n"
     ]
    }
   ],
   "source": [
    "for i in range(10):\n",
    "    for data in train_iter:\n",
    "        x, y = data\n",
    "        x = x.reshape(x.shape[0], -1)\n",
    "        y = torch.nn.functional.one_hot(y, 10)\n",
    "        loss = train(network, x, y)\n",
    "    print(loss)"
   ]
  },
  {
   "cell_type": "code",
   "execution_count": 8,
   "metadata": {},
   "outputs": [
    {
     "name": "stdout",
     "output_type": "stream",
     "text": [
      "测试集上的准确率： 0.8519999980926514\n"
     ]
    }
   ],
   "source": [
    "print(\"测试集上的准确率：\", (predict(network, test_iter)).item())"
   ]
  },
  {
   "cell_type": "code",
   "execution_count": 9,
   "metadata": {},
   "outputs": [
    {
     "name": "stdout",
     "output_type": "stream",
     "text": [
      "训练集上的准确率： 0.8719000220298767\n"
     ]
    }
   ],
   "source": [
    "\n",
    "print(\"训练集上的准确率：\", (predict(network, train_iter)).item())"
   ]
  }
 ],
 "metadata": {
  "kernelspec": {
   "display_name": "Python 3",
   "language": "python",
   "name": "python3"
  },
  "language_info": {
   "codemirror_mode": {
    "name": "ipython",
    "version": 3
   },
   "file_extension": ".py",
   "mimetype": "text/x-python",
   "name": "python",
   "nbconvert_exporter": "python",
   "pygments_lexer": "ipython3",
   "version": "3.7.6"
  }
 },
 "nbformat": 4,
 "nbformat_minor": 4
}
